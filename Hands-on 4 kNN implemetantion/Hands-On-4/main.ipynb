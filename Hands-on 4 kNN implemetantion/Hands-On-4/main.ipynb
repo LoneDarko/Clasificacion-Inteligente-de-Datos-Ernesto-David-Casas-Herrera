{
 "cells": [
  {
   "cell_type": "code",
   "execution_count": 1,
   "id": "7901dd3b-bcbc-4af3-8af4-552e41819126",
   "metadata": {},
   "outputs": [
    {
     "name": "stdout",
     "output_type": "stream",
     "text": [
      "\n",
      "Distances of nearest neighbors by test instance: \n",
      "\n",
      " [[3.0, 3.1622776601683795, 4.242640687119285, 5.0990195135927845, 5.385164807134504], [3.1622776601683795, 3.605551275463989, 3.605551275463989, 5.0990195135927845, 5.385164807134504], [3.1622776601683795, 5.0, 5.385164807134504, 5.830951894845301, 7.0710678118654755], [5.0990195135927845, 5.385164807134504, 5.385164807134504, 7.0710678118654755, 7.280109889280518], [5.0990195135927845, 5.385164807134504, 5.830951894845301, 7.0, 7.615773105863909], [5.830951894845301, 7.810249675906654, 8.06225774829855, 8.602325267042627, 9.899494936611665]]\n",
      "\n",
      "\n",
      "Indexes of nearest neighbors by test instance: \n",
      "\n",
      " [[10, 9, 11, 6, 5], [10, 9, 11, 8, 6], [11, 10, 8, 9, 6], [10, 9, 11, 8, 6], [11, 10, 9, 8, 6], [11, 10, 8, 9, 6]]\n",
      "\n",
      "\n",
      "Class label obtained by test instance: \n",
      "\n",
      " ['L', 'L', 'L', 'L', 'L', 'L']\n",
      "\n",
      "\n"
     ]
    }
   ],
   "source": [
    "from DataHandler import DataHandler\n",
    "\n",
    "\n",
    "def main():\n",
    "    filename = 'Dataset.csv'\n",
    "    feature_names = [\n",
    "        'Height',\n",
    "        'Weight'\n",
    "    ]\n",
    "    class_name = 'T'\n",
    "    train_percent = 65\n",
    "    n_neighbors = 5\n",
    "    \n",
    "    handler = DataHandler(filename, feature_names, class_name)\n",
    "    handler.process_data()\n",
    "    handler.train_test_split(train_percent)\n",
    "    handler.KNeighborsClasify(n_neighbors)\n",
    "    \n",
    "    \n",
    "    \n",
    "if __name__ == \"__main__\":\n",
    "    main()"
   ]
  },
  {
   "cell_type": "code",
   "execution_count": null,
   "id": "668f22d2-0939-4c2d-a203-59f4c5426327",
   "metadata": {},
   "outputs": [],
   "source": []
  }
 ],
 "metadata": {
  "kernelspec": {
   "display_name": "Python 3 (ipykernel)",
   "language": "python",
   "name": "python3"
  },
  "language_info": {
   "codemirror_mode": {
    "name": "ipython",
    "version": 3
   },
   "file_extension": ".py",
   "mimetype": "text/x-python",
   "name": "python",
   "nbconvert_exporter": "python",
   "pygments_lexer": "ipython3",
   "version": "3.11.7"
  }
 },
 "nbformat": 4,
 "nbformat_minor": 5
}
